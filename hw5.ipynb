{
 "cells": [
  {
   "cell_type": "code",
   "execution_count": 2,
   "metadata": {},
   "outputs": [
    {
     "data": {
      "text/plain": [
       "'nt'"
      ]
     },
     "execution_count": 2,
     "metadata": {},
     "output_type": "execute_result"
    }
   ],
   "source": [
    "import os\n",
    "import json\n",
    "import shutil\n",
    "os.name"
   ]
  },
  {
   "cell_type": "markdown",
   "metadata": {},
   "source": [
    "1 Get a directory where you work now\n"
   ]
  },
  {
   "cell_type": "code",
   "execution_count": null,
   "metadata": {},
   "outputs": [],
   "source": [
    "os.getcwd() # Getting current working directory"
   ]
  },
  {
   "cell_type": "markdown",
   "metadata": {},
   "source": [
    "2 Change the directory to Desktop\n"
   ]
  },
  {
   "cell_type": "code",
   "execution_count": null,
   "metadata": {},
   "outputs": [],
   "source": [
    "os.chdir(r\"C:\\Users\\nikol\\Desktop\") # Changing the directory and then checking it\n",
    "os.getcwd()"
   ]
  },
  {
   "cell_type": "markdown",
   "metadata": {},
   "source": [
    "3 Create a new folder \"a\" on your Desktop\n"
   ]
  },
  {
   "cell_type": "code",
   "execution_count": null,
   "metadata": {},
   "outputs": [],
   "source": [
    "os.mkdir('a')           # Creating the folder \"a\"\n",
    "os.path.exists('./a')   # Checking if it exists in cwd"
   ]
  },
  {
   "cell_type": "markdown",
   "metadata": {},
   "source": [
    "4 Create a new folder b  in the folder a you just created on your desktop"
   ]
  },
  {
   "cell_type": "code",
   "execution_count": null,
   "metadata": {},
   "outputs": [],
   "source": [
    "path = r'C:\\Users\\nikol\\Desktop\\a\\b'\n",
    "if not os.path.exists(path):        # If the path doesn't exist, it creates one\n",
    "    os.makedirs(path)"
   ]
  },
  {
   "cell_type": "markdown",
   "metadata": {},
   "source": [
    "5 Manually create a text (.txt) file, write some text to it\n"
   ]
  },
  {
   "cell_type": "code",
   "execution_count": null,
   "metadata": {},
   "outputs": [],
   "source": [
    "\n",
    "with open(r\"C:\\Users\\nikol\\Desktop\\a\\b\\text.txt\",\"w\") as tfile:\n",
    "    tfile.write(\"This is a test to see if I'm doing this correctly.\\n\")\n",
    "    tfile.write(\"I'm trying to write something in the file!\\n\")\n",
    "    tfile.write(\"If you're reading this, then I might be doing something,\\n\")\n",
    "    tfile.write(\"But I still have no idea how to properly navigate here.\\n\")\n",
    "\n",
    "os.startfile(r'C:\\Users\\nikol\\Desktop\\a\\b\\text.txt')      # Opens the file to see if it works"
   ]
  },
  {
   "cell_type": "markdown",
   "metadata": {},
   "source": [
    "6 Read the file in a Python environment\n"
   ]
  },
  {
   "cell_type": "code",
   "execution_count": null,
   "metadata": {},
   "outputs": [],
   "source": [
    "f = open(r\"C:\\Users\\nikol\\Desktop\\a\\b\\text.txt\",\"r\")  # r stands for 'reading'\n",
    "data = f.read()\n",
    "print(data)\n"
   ]
  },
  {
   "cell_type": "markdown",
   "metadata": {},
   "source": [
    "7 Make a copy of the file\n"
   ]
  },
  {
   "cell_type": "code",
   "execution_count": null,
   "metadata": {},
   "outputs": [],
   "source": [
    "src = r\"C:\\Users\\nikol\\Desktop\\a\\b\\text.txt\"\n",
    "dest = r\"C:\\Users\\nikol\\Desktop\\a\"\n",
    "shutil.copy(src,dest)"
   ]
  },
  {
   "cell_type": "markdown",
   "metadata": {},
   "source": [
    "8 Rename the copied file\n"
   ]
  },
  {
   "cell_type": "code",
   "execution_count": null,
   "metadata": {},
   "outputs": [],
   "source": [
    "os.rename(r\"C:\\Users\\nikol\\Desktop\\a\\text.txt\", r\"C:\\Users\\nikol\\Desktop\\a\\renamed text.txt\")"
   ]
  },
  {
   "cell_type": "markdown",
   "metadata": {},
   "source": [
    "9 Check to see if a file with the new name exists, if so, delete it\n"
   ]
  },
  {
   "cell_type": "code",
   "execution_count": null,
   "metadata": {},
   "outputs": [],
   "source": [
    "renfile = (r\"C:\\Users\\nikol\\Desktop\\a\\renamed text.txt\")\n",
    "\n",
    "if os.path.exists(renfile):\n",
    "    os.remove(renfile)\n",
    "    print(\"The file was deleted.\")\n",
    "else:\n",
    "    print(\"The file is not found\")"
   ]
  },
  {
   "cell_type": "markdown",
   "metadata": {},
   "source": [
    "10 Delete the entire folder you created in step 3\n"
   ]
  },
  {
   "cell_type": "code",
   "execution_count": 3,
   "metadata": {},
   "outputs": [],
   "source": [
    "wholefolder = (r\"C:\\Users\\nikol\\Desktop\")\n",
    "dir = \"a\"\n",
    "path2 = os.path.join(wholefolder, dir)\n",
    "shutil.rmtree(path2)\n",
    "\n",
    "# Should work as a standalone, but can't delete it as it's being used by the previous code.\n",
    "# Wanted to ask what's the workaround."
   ]
  }
 ],
 "metadata": {
  "kernelspec": {
   "display_name": "Python 3.10.8 64-bit",
   "language": "python",
   "name": "python3"
  },
  "language_info": {
   "codemirror_mode": {
    "name": "ipython",
    "version": 3
   },
   "file_extension": ".py",
   "mimetype": "text/x-python",
   "name": "python",
   "nbconvert_exporter": "python",
   "pygments_lexer": "ipython3",
   "version": "3.10.8"
  },
  "orig_nbformat": 4,
  "vscode": {
   "interpreter": {
    "hash": "101944ae7d96b15bf68203bae408f7824b2013f5e64db3410f77405552a8b789"
   }
  }
 },
 "nbformat": 4,
 "nbformat_minor": 2
}
