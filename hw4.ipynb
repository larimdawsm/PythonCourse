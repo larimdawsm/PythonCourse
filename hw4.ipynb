{
 "cells": [
  {
   "cell_type": "markdown",
   "metadata": {},
   "source": [
    "# Homework 4"
   ]
  },
  {
   "cell_type": "markdown",
   "metadata": {},
   "source": [
    "Write a function, a password generator, that would accept an int-type variable and return such a long password from lowercase, uppercase, numbers, and characters\n",
    "\n",
    "Use random.randint method or random.choice ()\n"
   ]
  },
  {
   "cell_type": "code",
   "execution_count": 1,
   "metadata": {},
   "outputs": [],
   "source": [
    "import random\n",
    "import string"
   ]
  },
  {
   "cell_type": "code",
   "execution_count": 2,
   "metadata": {},
   "outputs": [],
   "source": [
    "letters = string.ascii_letters\n",
    "digits = string.digits\n",
    "special_chars = string.punctuation\n",
    "\n",
    "alphabet = letters + digits + special_chars"
   ]
  },
  {
   "cell_type": "code",
   "execution_count": 3,
   "metadata": {},
   "outputs": [
    {
     "name": "stdout",
     "output_type": "stream",
     "text": [
      "Your password is: E0r~{}/t\\PXa4J1\n"
     ]
    }
   ],
   "source": [
    "pwd_length = int(input(\"What would be your password's length?: \"))\n",
    "\n",
    "def password_generator(pwd_length):\n",
    "    result = ''.join(random.choice(alphabet) for i in range(pwd_length))\n",
    "    print(\"Your password is:\", result)\n",
    "\n",
    "password_generator(pwd_length)"
   ]
  },
  {
   "cell_type": "markdown",
   "metadata": {},
   "source": [
    "Write a function that accepts a list and an integer k.\n",
    "\n",
    "The function returns the maximum sum of k neighboring members."
   ]
  },
  {
   "cell_type": "code",
   "execution_count": 4,
   "metadata": {},
   "outputs": [
    {
     "data": {
      "text/plain": [
       "16"
      ]
     },
     "execution_count": 4,
     "metadata": {},
     "output_type": "execute_result"
    }
   ],
   "source": [
    "def fn(list, k):\n",
    "    result = 0\n",
    "    for i in range(k):\n",
    "        max_number = max(list)\n",
    "        max_index = list.index(max_number)\n",
    "        if i == 0:\n",
    "            result += max_number\n",
    "        else:\n",
    "            result += list[max_index - i]\n",
    "    return result\n",
    "\n",
    "fn([2, 3, 4, 5, 10, 16, 1, 1], 1)"
   ]
  },
  {
   "cell_type": "code",
   "execution_count": 5,
   "metadata": {},
   "outputs": [
    {
     "data": {
      "text/plain": [
       "26"
      ]
     },
     "execution_count": 5,
     "metadata": {},
     "output_type": "execute_result"
    }
   ],
   "source": [
    "fn([2, 3, 4, 5, 10, 16, 1, 1], 2)"
   ]
  },
  {
   "cell_type": "code",
   "execution_count": 6,
   "metadata": {},
   "outputs": [
    {
     "data": {
      "text/plain": [
       "31"
      ]
     },
     "execution_count": 6,
     "metadata": {},
     "output_type": "execute_result"
    }
   ],
   "source": [
    "fn([2, 3, 4, 5, 10, 16, 1, 1], 3)"
   ]
  },
  {
   "cell_type": "code",
   "execution_count": 7,
   "metadata": {},
   "outputs": [
    {
     "data": {
      "text/plain": [
       "1002"
      ]
     },
     "execution_count": 7,
     "metadata": {},
     "output_type": "execute_result"
    }
   ],
   "source": [
    "fn([2, 3, 4, 5, 10, 16, 1, 1, 1000], 3)"
   ]
  },
  {
   "cell_type": "markdown",
   "metadata": {},
   "source": [
    "Write a function that accepts a list and an integer k.\n",
    "\n",
    "The function returns a list of number pairs whose difference is equal to the entered number k.\n",
    "\n",
    "If no such pairs are present, return False."
   ]
  },
  {
   "cell_type": "code",
   "execution_count": null,
   "metadata": {},
   "outputs": [],
   "source": []
  }
 ],
 "metadata": {
  "kernelspec": {
   "display_name": "Python 3.10.8 64-bit",
   "language": "python",
   "name": "python3"
  },
  "language_info": {
   "codemirror_mode": {
    "name": "ipython",
    "version": 3
   },
   "file_extension": ".py",
   "mimetype": "text/x-python",
   "name": "python",
   "nbconvert_exporter": "python",
   "pygments_lexer": "ipython3",
   "version": "3.10.8"
  },
  "orig_nbformat": 4,
  "vscode": {
   "interpreter": {
    "hash": "101944ae7d96b15bf68203bae408f7824b2013f5e64db3410f77405552a8b789"
   }
  }
 },
 "nbformat": 4,
 "nbformat_minor": 2
}
