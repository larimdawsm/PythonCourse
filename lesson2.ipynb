{
 "cells": [
  {
   "cell_type": "code",
   "execution_count": 29,
   "metadata": {},
   "outputs": [],
   "source": [
    "text = \"What a beautiful day\""
   ]
  },
  {
   "cell_type": "code",
   "execution_count": 30,
   "metadata": {},
   "outputs": [
    {
     "data": {
      "text/plain": [
       "4"
      ]
     },
     "execution_count": 30,
     "metadata": {},
     "output_type": "execute_result"
    }
   ],
   "source": [
    "text.count('a')"
   ]
  },
  {
   "cell_type": "code",
   "execution_count": 31,
   "metadata": {},
   "outputs": [
    {
     "data": {
      "text/plain": [
       "'What a terrible day'"
      ]
     },
     "execution_count": 31,
     "metadata": {},
     "output_type": "execute_result"
    }
   ],
   "source": [
    "text.replace ('beautiful', 'terrible') # Shift + Enter to run; Ctrl + a to select or Ctrl + C on line end to copy line"
   ]
  },
  {
   "cell_type": "code",
   "execution_count": 32,
   "metadata": {},
   "outputs": [
    {
     "data": {
      "text/plain": [
       "22"
      ]
     },
     "execution_count": 32,
     "metadata": {},
     "output_type": "execute_result"
    }
   ],
   "source": [
    "text = \"What a beautiful day, Nikolaj, It's great!\"\n",
    "text.find(\"Nikolaj\")"
   ]
  },
  {
   "cell_type": "code",
   "execution_count": 33,
   "metadata": {},
   "outputs": [
    {
     "data": {
      "text/plain": [
       "\"Nikolaj, It's great\""
      ]
     },
     "execution_count": 33,
     "metadata": {},
     "output_type": "execute_result"
    }
   ],
   "source": [
    "text[ text.find('Nikolaj'): text.find('What', text.find('Nikolaj'))]"
   ]
  },
  {
   "cell_type": "code",
   "execution_count": 34,
   "metadata": {},
   "outputs": [
    {
     "name": "stdout",
     "output_type": "stream",
     "text": [
      "True\n",
      "False\n",
      "False\n"
     ]
    }
   ],
   "source": [
    "text_with_numbers = \"6847\"\n",
    "\n",
    "print (text_with_numbers.isdigit() )\n",
    "print ('4.5$'.isdigit() )\n",
    "print (\"4.5\".isnumeric() )"
   ]
  },
  {
   "cell_type": "code",
   "execution_count": 35,
   "metadata": {},
   "outputs": [
    {
     "name": "stdout",
     "output_type": "stream",
     "text": [
      "hey there\n",
      "             hey there                \n"
     ]
    }
   ],
   "source": [
    "text = '             hey there                '\n",
    "print(text.strip() )\n",
    "print(text)"
   ]
  },
  {
   "cell_type": "code",
   "execution_count": 36,
   "metadata": {},
   "outputs": [
    {
     "name": "stdout",
     "output_type": "stream",
     "text": [
      "Hey there\n"
     ]
    }
   ],
   "source": [
    "text = text.strip()\n",
    "print (text.capitalize() )"
   ]
  },
  {
   "cell_type": "markdown",
   "metadata": {},
   "source": [
    "# String operations"
   ]
  },
  {
   "cell_type": "code",
   "execution_count": 37,
   "metadata": {},
   "outputs": [
    {
     "data": {
      "text/plain": [
       "'Hello World'"
      ]
     },
     "execution_count": 37,
     "metadata": {},
     "output_type": "execute_result"
    }
   ],
   "source": [
    "'Hello' + ' World'"
   ]
  },
  {
   "cell_type": "code",
   "execution_count": 38,
   "metadata": {},
   "outputs": [
    {
     "data": {
      "text/plain": [
       "'hi hi hi hi hi hi hi hi hi hi hi hi hi hi hi hi hi hi hi hi hi hi hi hi hi hi hi hi hi hi hi hi hi hi hi hi hi hi hi hi hi hi hi hi hi hi hi hi hi hi hi hi hi hi hi hi hi hi hi hi hi hi hi hi hi hi hi hi hi hi hi hi hi hi hi hi hi hi hi hi hi hi hi hi hi hi hi hi hi hi hi hi hi hi hi hi hi hi hi hi '"
      ]
     },
     "execution_count": 38,
     "metadata": {},
     "output_type": "execute_result"
    }
   ],
   "source": [
    "'hi ' * 100"
   ]
  },
  {
   "cell_type": "markdown",
   "metadata": {},
   "source": [
    "## Formatting. f-string"
   ]
  },
  {
   "cell_type": "code",
   "execution_count": 39,
   "metadata": {},
   "outputs": [
    {
     "name": "stdout",
     "output_type": "stream",
     "text": [
      "Hi, my name is Nikolaj Goncarov, I am 28 years old.\n",
      "Hi, my name is Nikolaj Goncarov, I am 28 years old.\n",
      "f-string\n",
      "Hi, my name is Nikolaj Goncarov, I am 28 years old.\n",
      "Hi, my name is Nikolaj Goncarov, I am 30 years old.\n"
     ]
    }
   ],
   "source": [
    "name = 'Nikolaj'\n",
    "surname = 'Goncarov'\n",
    "age = 28\n",
    "\n",
    "print( 'Hi, my name is ' + name + ' ' + surname + ', I am ' + str(age) + ' years old.' )\n",
    "print( 'Hi, my name is ' + name + ' ' + surname + ', I am ' + str(age) + ' years old.' )\n",
    "# now we try f-string\n",
    "print( 'f-string')\n",
    "print( f'Hi, my name is {name} {surname}, I am {age} years old.' )\n",
    "print( f'Hi, my name is {name} {surname}, I am {age + 2} years old.' )\n",
    "\n"
   ]
  },
  {
   "cell_type": "markdown",
   "metadata": {},
   "source": [
    "# Numbers"
   ]
  },
  {
   "cell_type": "code",
   "execution_count": 40,
   "metadata": {},
   "outputs": [],
   "source": [
    "number = 2349\n",
    "\n",
    "float_number = 2349.57"
   ]
  },
  {
   "cell_type": "code",
   "execution_count": 41,
   "metadata": {},
   "outputs": [
    {
     "name": "stdout",
     "output_type": "stream",
     "text": [
      "<class 'int'>\n",
      "<class 'float'>\n"
     ]
    }
   ],
   "source": [
    "print( type(number) )\n",
    "print( type(float_number) )\n"
   ]
  },
  {
   "cell_type": "markdown",
   "metadata": {},
   "source": [
    "# Operations"
   ]
  },
  {
   "cell_type": "code",
   "execution_count": 43,
   "metadata": {},
   "outputs": [
    {
     "name": "stdout",
     "output_type": "stream",
     "text": [
      "2406\n",
      "2292\n",
      "133893\n",
      "41.21052631578947\n",
      "//\n",
      "1\n",
      "2\n",
      "modulus\n",
      "3\n",
      "4\n",
      "4\n"
     ]
    }
   ],
   "source": [
    "print ( number + 57)\n",
    "print ( number - 57)\n",
    "print ( number * 57)\n",
    "print ( number / 57)\n",
    "print ('//')\n",
    "\n",
    "print ( 13 // 10) # get full division part\n",
    "print ( 23 // 10) # get full division part\n",
    "\n",
    "print('modulus')\n",
    "print ( 13 % 10)\n",
    "print ( 14 % 10)\n",
    "print ( 44 % 10)\n",
    "\n",
    "\n"
   ]
  },
  {
   "cell_type": "code",
   "execution_count": 46,
   "metadata": {},
   "outputs": [
    {
     "name": "stdout",
     "output_type": "stream",
     "text": [
      "1\n",
      "0\n",
      "1\n",
      "0\n"
     ]
    }
   ],
   "source": [
    "print (1 % 2) #counting down like \"na pervyj vtoroj rasscitajsia\"\n",
    "print (2 % 2)\n",
    "print (3 % 2)\n",
    "print (4 % 2)"
   ]
  },
  {
   "cell_type": "code",
   "execution_count": 49,
   "metadata": {},
   "outputs": [
    {
     "name": "stdout",
     "output_type": "stream",
     "text": [
      "5\n",
      "6\n",
      "7\n",
      "14\n",
      "4.666666666666667\n"
     ]
    }
   ],
   "source": [
    "c = 5\n",
    "print (c)\n",
    "c = c + 1\n",
    "print (c)\n",
    "c += 1\n",
    "print (c)\n",
    "c *=2\n",
    "print (c)\n",
    "c /= 3\n",
    "print (c)\n"
   ]
  },
  {
   "cell_type": "code",
   "execution_count": 51,
   "metadata": {},
   "outputs": [
    {
     "name": "stdout",
     "output_type": "stream",
     "text": [
      "9\n",
      "27\n",
      "81\n",
      "6561\n"
     ]
    }
   ],
   "source": [
    "print(3 ** 2) #multiplying in the power of the number that comes after **\n",
    "print(3 ** 3)\n",
    "print(3 ** 4)\n",
    "print(3 ** 8)"
   ]
  },
  {
   "cell_type": "markdown",
   "metadata": {},
   "source": [
    "# String tasks"
   ]
  },
  {
   "cell_type": "code",
   "execution_count": 53,
   "metadata": {},
   "outputs": [
    {
     "name": "stdout",
     "output_type": "stream",
     "text": [
      "Nikolaj Goncarov is trying to complete this string task.\n"
     ]
    }
   ],
   "source": [
    "#Printing my name and surname with one print() function\n",
    "name = 'Nikolaj'\n",
    "surname = 'Goncarov'\n",
    "\n",
    "print( f\"{name} {surname} is trying to complete this string task.\")"
   ]
  },
  {
   "cell_type": "code",
   "execution_count": 59,
   "metadata": {},
   "outputs": [
    {
     "name": "stdout",
     "output_type": "stream",
     "text": [
      "PyThOn makes me really really happy!\n",
      "PYTHON MAKES ME REALLY REALLY HAPPY!\n"
     ]
    },
    {
     "data": {
      "text/plain": [
       "['Python', 'makes', 'me', 'really', 'really', 'happy!']"
      ]
     },
     "execution_count": 59,
     "metadata": {},
     "output_type": "execute_result"
    }
   ],
   "source": [
    "#From the string ‘Python makes me really really happy!’\n",
    "\n",
    "text = ('Python makes me really really happy!')\n",
    "print( text.replace ('Python', 'PyThOn'))\n",
    "\n",
    "print( text.upper ())\n",
    "\n",
    "text.split()"
   ]
  },
  {
   "cell_type": "code",
   "execution_count": 81,
   "metadata": {},
   "outputs": [
    {
     "name": "stdout",
     "output_type": "stream",
     "text": [
      "h\n",
      "Hello Worl\n",
      "happy\n",
      "to\n",
      "Hello World, I am happy to learn Python!\n"
     ]
    }
   ],
   "source": [
    "#Extract the words from \"Hello World, I am happy to learn Python!\"\n",
    "textstr = (\"Hello World, I am happy to learn Python!\")\n",
    "len(textstr)\n",
    "\n",
    "print (textstr[textstr.find('happy')])\n",
    "\n",
    "print(textstr[0:10])\n",
    "print(textstr[18:23])\n",
    "print(textstr[24:26])\n",
    "\n",
    "print (textstr[ textstr.find('happy') : textstr.find('happy') + le] )\n",
    "\n",
    "print ( textstr[ textstr.find('to') : textstr.find('to') + len('to'))])\n",
    "\n",
    "\n",
    "\n",
    "\n"
   ]
  },
  {
   "cell_type": "code",
   "execution_count": 82,
   "metadata": {},
   "outputs": [
    {
     "name": "stdout",
     "output_type": "stream",
     "text": [
      "18\n"
     ]
    }
   ],
   "source": [
    "print (textstr.find('happy'))"
   ]
  },
  {
   "cell_type": "markdown",
   "metadata": {},
   "source": [
    "# Bool (Bulean)"
   ]
  },
  {
   "cell_type": "code",
   "execution_count": 98,
   "metadata": {},
   "outputs": [
    {
     "name": "stdout",
     "output_type": "stream",
     "text": [
      "<class 'bool'>\n"
     ]
    }
   ],
   "source": [
    "bool_1 = True\n",
    "bool_2 = False\n",
    "print (type(bool_1) )"
   ]
  },
  {
   "cell_type": "code",
   "execution_count": 84,
   "metadata": {},
   "outputs": [
    {
     "name": "stdout",
     "output_type": "stream",
     "text": [
      "True\n"
     ]
    }
   ],
   "source": [
    "number = 0.1\n",
    "print ( bool(number) )"
   ]
  },
  {
   "cell_type": "code",
   "execution_count": 85,
   "metadata": {},
   "outputs": [
    {
     "name": "stdout",
     "output_type": "stream",
     "text": [
      "True\n",
      "False\n"
     ]
    }
   ],
   "source": [
    "text = 'hello'\n",
    "print ( bool(text) )\n",
    "# only empty string becomes False\n",
    "text = ''\n",
    "print ( bool(text))"
   ]
  },
  {
   "cell_type": "code",
   "execution_count": 92,
   "metadata": {},
   "outputs": [
    {
     "name": "stdout",
     "output_type": "stream",
     "text": [
      "True\n",
      "False\n",
      "True\n",
      "True\n",
      "//\n",
      "check if equal\n",
      "True\n",
      "False\n",
      "//\n",
      "check if NOT equal\n",
      "False\n",
      "True\n"
     ]
    }
   ],
   "source": [
    "print ( 2 > 1)\n",
    "print ( 2 < 1)\n",
    "print ( 2 >= 2)\n",
    "print ( 2 <= 3)\n",
    "print ('//')\n",
    "print( 'check if equal')\n",
    "print ( 10 == 10)\n",
    "print ( 10 == 5)\n",
    "print ('//')\n",
    "print( 'check if NOT equal')\n",
    "print ( 10 != 10)\n",
    "print ( 10 != 5)\n",
    "\n",
    "\n"
   ]
  },
  {
   "cell_type": "code",
   "execution_count": 94,
   "metadata": {},
   "outputs": [
    {
     "name": "stdout",
     "output_type": "stream",
     "text": [
      "True\n",
      "True\n",
      "False\n"
     ]
    }
   ],
   "source": [
    "text = 'hello world'\n",
    "print ( 'o' in text )\n",
    "print ( 'world' in text )\n",
    "print ( 'World' in text ) #capital letter, not the same"
   ]
  },
  {
   "cell_type": "code",
   "execution_count": 95,
   "metadata": {},
   "outputs": [
    {
     "name": "stdout",
     "output_type": "stream",
     "text": [
      "True\n",
      "False\n",
      "True\n"
     ]
    }
   ],
   "source": [
    "print (True)\n",
    "print (not True)\n",
    "print (not not True)"
   ]
  },
  {
   "cell_type": "code",
   "execution_count": 97,
   "metadata": {},
   "outputs": [
    {
     "name": "stdout",
     "output_type": "stream",
     "text": [
      "and\n",
      "True\n",
      "False\n",
      "False\n",
      "or\n",
      "True\n",
      "True\n",
      "False\n"
     ]
    }
   ],
   "source": [
    "print ('and')\n",
    "print ( 5 > 2 and 10 < 20 )\n",
    "print ( 5 > 2 and 10 > 20 )\n",
    "print ( 5 < 2 and 10 < 20 )\n",
    "#if at least one of them is incorrect, they it'd be False\n",
    "print ('or')\n",
    "print ( 5 > 2 or 10 < 20 )\n",
    "print ( 5 > 2 or 10 > 20 )\n",
    "print ( 5 < 2 or 10 > 20 )\n"
   ]
  },
  {
   "cell_type": "code",
   "execution_count": null,
   "metadata": {},
   "outputs": [],
   "source": []
  }
 ],
 "metadata": {
  "kernelspec": {
   "display_name": "Python 3.10.8 64-bit",
   "language": "python",
   "name": "python3"
  },
  "language_info": {
   "codemirror_mode": {
    "name": "ipython",
    "version": 3
   },
   "file_extension": ".py",
   "mimetype": "text/x-python",
   "name": "python",
   "nbconvert_exporter": "python",
   "pygments_lexer": "ipython3",
   "version": "3.10.8"
  },
  "orig_nbformat": 4,
  "vscode": {
   "interpreter": {
    "hash": "101944ae7d96b15bf68203bae408f7824b2013f5e64db3410f77405552a8b789"
   }
  }
 },
 "nbformat": 4,
 "nbformat_minor": 2
}
