{
 "cells": [
  {
   "cell_type": "code",
   "execution_count": 17,
   "metadata": {},
   "outputs": [
    {
     "name": "stdout",
     "output_type": "stream",
     "text": [
      "8\n",
      "8\n",
      "[11, [222, 33], 44, 55]\n",
      "[222, 33]\n",
      "[11, [222, 22], 44, 55]\n",
      "(11, [222, 22], 44, 55)\n"
     ]
    }
   ],
   "source": [
    "##Display number 8 on screen\n",
    "my_tuple = (1, 2, ['3', 4, 5], [6, [7, (8)]])\n",
    "print( my_tuple [-1][1][-1])\n",
    "print( my_tuple [3][1][1])\n",
    "\n",
    "#Change the value\n",
    "tuple1 = (11, [222, 33], 44, 55)\n",
    "tmp_list = list(tuple1)\n",
    "print(tmp_list)\n",
    "# tmp_list[0] = 5555\n",
    "# print(tmp_list)\n",
    "print(tmp_list[1])\n",
    "tmp_list[1][1] = 22\n",
    "print(tmp_list)\n",
    "tuple1 = tuple(tmp_list)\n",
    "print(tuple1)"
   ]
  },
  {
   "cell_type": "code",
   "execution_count": 20,
   "metadata": {},
   "outputs": [
    {
     "name": "stdout",
     "output_type": "stream",
     "text": [
      "(11, [222, 22], 44, 55)\n"
     ]
    }
   ],
   "source": [
    "tuple1 = (11, [222, 33], 44, 55)\n",
    "tuple1[1][1] = 22 #Works only with a tuple (wouldn't work on 44 or 11)\n",
    "print(tuple1)\n"
   ]
  },
  {
   "cell_type": "code",
   "execution_count": 27,
   "metadata": {},
   "outputs": [
    {
     "name": "stdout",
     "output_type": "stream",
     "text": [
      "(1, 5, 3, 10, 15, 25)\n",
      "remove last tuple value\n",
      "[1, 5, 3]\n",
      "[1, 5]\n",
      "(1, 5)\n",
      "sort\n",
      "(1, 5, 3, 10, 15, 25)\n",
      "(1, 3, 5, 10, 15, 25)\n",
      "count of 10: 1\n",
      "max value of tuple: 25\n",
      "max value of tuple: 25\n"
     ]
    }
   ],
   "source": [
    "#Add two tuples\n",
    "tuple_1 = (1,5,3)\n",
    "tuple_2 = (10,15,25)\n",
    "\n",
    "sum_of_tuples = tuple_1 + tuple_2\n",
    "print(sum_of_tuples)\n",
    "\n",
    "print('remove last tuple value')\n",
    "tmp_list = list(tuple_1)\n",
    "print(tmp_list)\n",
    "tmp_list.pop()\n",
    "print(tmp_list)\n",
    "tuple_1 = tuple(tmp_list)\n",
    "print(tuple_1)\n",
    "\n",
    "\n",
    "print('sort')\n",
    "print(sum_of_tuples)\n",
    "sorted(sum_of_tuples)\n",
    "sum_of_tuples = tuple( sorted(sum_of_tuples))\n",
    "print(sum_of_tuples)\n",
    "\n",
    "print(f'count of 10: {sum_of_tuples.count(10)}')\n",
    "print (f'max value of tuple: {sum_of_tuples[-1]}')\n",
    "print (f'max value of tuple: { max (sum_of_tuples) }')\n"
   ]
  },
  {
   "cell_type": "markdown",
   "metadata": {},
   "source": [
    "# Range"
   ]
  },
  {
   "cell_type": "code",
   "execution_count": 35,
   "metadata": {},
   "outputs": [
    {
     "name": "stdout",
     "output_type": "stream",
     "text": [
      "range(0, 10)\n",
      "<class 'range'>\n",
      "[0, 1, 2, 3, 4, 5, 6, 7, 8, 9]\n",
      "[0, 1, 2, 3, 4, 5, 6, 7, 8, 9, 10, 11, 12, 13, 14]\n",
      "[7, 8, 9, 10, 11, 12, 13, 14]\n",
      "[11, 14, 17, 20, 23, 26]\n",
      "[43, 40, 37, 34, 31, 28]\n"
     ]
    }
   ],
   "source": [
    "# Range\n",
    "print ( range(10) )\n",
    "print ( type (range(10) ) )\n",
    "print ( list (range(10) ) )\n",
    "print ( list (range(15) ) )\n",
    "print ( list (range(7, 15) ) )\n",
    "# range(start, end, step)\n",
    "print ( list (range(11, 27, 3) ) )\n",
    "print ( list (range(43, 27, -3) ) )\n"
   ]
  },
  {
   "cell_type": "markdown",
   "metadata": {},
   "source": [
    "# For loop"
   ]
  },
  {
   "cell_type": "code",
   "execution_count": 39,
   "metadata": {},
   "outputs": [
    {
     "name": "stdout",
     "output_type": "stream",
     "text": [
      "beginning of the loop iteration\n",
      "Vilnius is a beautiful city\n",
      "end of the loop iteration\n",
      "beginning of the loop iteration\n",
      "London is a beautiful city\n",
      "end of the loop iteration\n",
      "beginning of the loop iteration\n",
      "Kaunas is a beautiful city\n",
      "end of the loop iteration\n",
      "beginning of the loop iteration\n",
      "Berlin is a beautiful city\n",
      "end of the loop iteration\n",
      "end of everything\n"
     ]
    }
   ],
   "source": [
    "cities = ['Vilnius', 'London', 'Kaunas', 'Berlin']\n",
    "\n",
    "# for <any_name> in <list/sequence>:\n",
    "for city in cities:\n",
    "    print ('beginning of the loop iteration')\n",
    "    print(f'{city} is a beautiful city')\n",
    "    print ('end of the loop iteration')\n",
    "print ('end of everything')\n"
   ]
  },
  {
   "cell_type": "code",
   "execution_count": 37,
   "metadata": {},
   "outputs": [
    {
     "name": "stdout",
     "output_type": "stream",
     "text": [
      "Vilnius is a beautiful city\n",
      "London is a beautiful city\n",
      "Kaunas is a beautiful city\n"
     ]
    }
   ],
   "source": [
    "for i in cities:\n",
    "    print(f'{i} is a beautiful city')"
   ]
  },
  {
   "cell_type": "code",
   "execution_count": 40,
   "metadata": {},
   "outputs": [
    {
     "name": "stdout",
     "output_type": "stream",
     "text": [
      "4\n",
      "11\n",
      "18\n"
     ]
    }
   ],
   "source": [
    "for number in range(4,23,7):\n",
    "    print (number)"
   ]
  },
  {
   "cell_type": "code",
   "execution_count": 41,
   "metadata": {},
   "outputs": [
    {
     "name": "stdout",
     "output_type": "stream",
     "text": [
      "0\n",
      "1\n",
      "2\n",
      "3\n",
      "4\n",
      "5\n",
      "6\n",
      "7\n",
      "8\n",
      "9\n",
      "10\n"
     ]
    }
   ],
   "source": [
    "#for loop tasks\n",
    "#1. Print the first 10 inclusive numbers using for loop\n",
    "\n",
    "for number in range(11):\n",
    "    print (number)"
   ]
  },
  {
   "cell_type": "code",
   "execution_count": 43,
   "metadata": {},
   "outputs": [
    {
     "name": "stdout",
     "output_type": "stream",
     "text": [
      "intermediate result: 0\n",
      "intermediate result: 1\n",
      "intermediate result: 3\n",
      "intermediate result: 6\n",
      "intermediate result: 10\n",
      "intermediate result: 15\n",
      "intermediate result: 21\n",
      "intermediate result: 28\n",
      "intermediate result: 36\n",
      "intermediate result: 45\n",
      "intermediate result: 55\n",
      "intermediate result: 66\n",
      "intermediate result: 78\n",
      "intermediate result: 91\n",
      "intermediate result: 105\n",
      "intermediate result: 120\n",
      "intermediate result: 136\n",
      "intermediate result: 153\n",
      "intermediate result: 171\n",
      "intermediate result: 190\n",
      "intermediate result: 210\n",
      "intermediate result: 231\n",
      "intermediate result: 253\n",
      "intermediate result: 276\n",
      "intermediate result: 300\n",
      "intermediate result: 325\n",
      "intermediate result: 351\n",
      "intermediate result: 378\n",
      "intermediate result: 406\n",
      "intermediate result: 435\n",
      "intermediate result: 465\n",
      "intermediate result: 496\n",
      "intermediate result: 528\n",
      "intermediate result: 561\n",
      "intermediate result: 595\n",
      "intermediate result: 630\n",
      "intermediate result: 666\n",
      "intermediate result: 703\n",
      "intermediate result: 741\n",
      "intermediate result: 780\n",
      "intermediate result: 820\n",
      "intermediate result: 861\n",
      "intermediate result: 903\n",
      "intermediate result: 946\n",
      "intermediate result: 990\n",
      "intermediate result: 1035\n",
      "intermediate result: 1081\n",
      "intermediate result: 1128\n",
      "intermediate result: 1176\n",
      "intermediate result: 1225\n",
      "intermediate result: 1275\n",
      "final result is: 1275\n"
     ]
    }
   ],
   "source": [
    "#2. Printing the sum of numbers inclusive\n",
    "result = 0\n",
    "for number in range(51):\n",
    "    result += number\n",
    "    print (f'intermediate result: {result}')\n",
    "\n",
    "print(f'final result is: {result}')\n"
   ]
  },
  {
   "cell_type": "code",
   "execution_count": 47,
   "metadata": {},
   "outputs": [
    {
     "name": "stdout",
     "output_type": "stream",
     "text": [
      "5\n",
      "5\n",
      "5 x 1 = 5 \n",
      "5 x 2 = 10 \n",
      "5 x 3 = 15 \n",
      "5 x 4 = 20 \n",
      "5 x 5 = 25 \n",
      "5 x 6 = 30 \n",
      "5 x 7 = 35 \n",
      "5 x 8 = 40 \n",
      "5 x 9 = 45 \n",
      "5 x 10 = 50 \n"
     ]
    }
   ],
   "source": [
    "#input tasks\n",
    "#Use Input() to select a number, print its product from 1 to 10 inclusive\n",
    "user_input = input('enter a number')\n",
    "print(user_input)\n",
    "user_number = int(user_input)\n",
    "print(user_number)\n",
    "\n",
    "for number in range(1, 11):\n",
    "    print (f'{user_number} x {number} = {user_number * number} ')"
   ]
  },
  {
   "cell_type": "code",
   "execution_count": 55,
   "metadata": {},
   "outputs": [
    {
     "name": "stdout",
     "output_type": "stream",
     "text": [
      "[('Monday', 10), ('Monday', 11), ('Monday', 12), ('Monday', 13), ('Monday', 14), ('Monday', 15), ('Monday', 16), ('Monday', 17), ('Monday', 18), ('Monday', 19), ('Tuesday', 10), ('Tuesday', 11), ('Tuesday', 12), ('Tuesday', 13), ('Tuesday', 14), ('Tuesday', 15), ('Tuesday', 16), ('Tuesday', 17), ('Tuesday', 18), ('Tuesday', 19), ('Wednesday', 10), ('Wednesday', 11), ('Wednesday', 12), ('Wednesday', 13), ('Wednesday', 14), ('Wednesday', 15), ('Wednesday', 16), ('Wednesday', 17), ('Wednesday', 18), ('Wednesday', 19), ('Thursday', 10), ('Thursday', 11), ('Thursday', 12), ('Thursday', 13), ('Thursday', 14), ('Thursday', 15), ('Thursday', 16), ('Thursday', 17), ('Thursday', 18), ('Thursday', 19), ('Friday', 10), ('Friday', 11), ('Friday', 12), ('Friday', 13), ('Friday', 14), ('Friday', 15), ('Friday', 16), ('Friday', 17), ('Friday', 18), ('Friday', 19), ('Saturday', 10), ('Saturday', 11), ('Saturday', 12), ('Saturday', 13), ('Saturday', 14), ('Saturday', 15), ('Saturday', 16), ('Saturday', 17), ('Saturday', 18), ('Saturday', 19), ('Sunday', 10), ('Sunday', 11), ('Sunday', 12), ('Sunday', 13), ('Sunday', 14), ('Sunday', 15), ('Sunday', 16), ('Sunday', 17), ('Sunday', 18), ('Sunday', 19)]\n",
      "70\n"
     ]
    }
   ],
   "source": [
    "#Get all possible combinations from these lists, add them to a single list\n",
    "\n",
    "days = ('Monday', 'Tuesday', 'Wednesday', 'Thursday', 'Friday', 'Saturday' , 'Sunday')\n",
    "hours = [10, 11, 12, 13, 14, 15, 16, 17, 18, 19]\n",
    "\n",
    "combinations = []\n",
    "\n",
    "for day in days:\n",
    "    #print (day)\n",
    "    for hour in hours:\n",
    "        #print(hour)\n",
    "        #combinations.append( f'{day} {hour}' )\n",
    "        combinations.append( (day, hour) )\n",
    "\n",
    "print (combinations)\n",
    "print (len(combinations))\n"
   ]
  },
  {
   "cell_type": "markdown",
   "metadata": {},
   "source": [
    "# if statement"
   ]
  },
  {
   "cell_type": "code",
   "execution_count": 56,
   "metadata": {},
   "outputs": [
    {
     "name": "stdout",
     "output_type": "stream",
     "text": [
      "False\n",
      "value is less than 5\n"
     ]
    }
   ],
   "source": [
    "x = 2\n",
    "print (x > 5)\n",
    "\n",
    "if x > 5:\n",
    "    print ('value is more than 5')\n",
    "\n",
    "if x < 5:\n",
    "    print ('value is less than 5')"
   ]
  }
 ],
 "metadata": {
  "kernelspec": {
   "display_name": "Python 3.10.8 64-bit",
   "language": "python",
   "name": "python3"
  },
  "language_info": {
   "codemirror_mode": {
    "name": "ipython",
    "version": 3
   },
   "file_extension": ".py",
   "mimetype": "text/x-python",
   "name": "python",
   "nbconvert_exporter": "python",
   "pygments_lexer": "ipython3",
   "version": "3.10.8"
  },
  "orig_nbformat": 4,
  "vscode": {
   "interpreter": {
    "hash": "101944ae7d96b15bf68203bae408f7824b2013f5e64db3410f77405552a8b789"
   }
  }
 },
 "nbformat": 4,
 "nbformat_minor": 2
}
