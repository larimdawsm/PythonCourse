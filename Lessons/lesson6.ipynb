{
 "cells": [
  {
   "cell_type": "markdown",
   "metadata": {},
   "source": [
    "# Homework"
   ]
  },
  {
   "cell_type": "markdown",
   "metadata": {},
   "source": [
    "4. Make a list with 10 words, the program will answer such questions: How many words are longer than 10 characters, Which word is the longest and shortest, Is oeven one word palindrome, if so, what or what are those words?"
   ]
  },
  {
   "cell_type": "code",
   "execution_count": null,
   "metadata": {},
   "outputs": [],
   "source": [
    "list_of_words=['pop', 'rock', 'three', 'Monday', 'Tuesday', 'January', 'February', 'April', 'Refridgerator', 'Oven']\n",
    "\n",
    "long_words = []\n",
    "palindromes = []\n",
    "\n",
    "for word in list_of_words:\n",
    "    if len(word) > 10:\n",
    "        long_words.append(word)\n",
    "    if word == word [::-1]:\n",
    "        palindromes.append(word)\n",
    "\n",
    "list_of_words = sorted(list_of_words)\n",
    "\n",
    "#finish with lesson 6 file\n",
    "\n",
    "\n"
   ]
  },
  {
   "cell_type": "markdown",
   "metadata": {},
   "source": [
    "6. Find duplicate items between two lists\n",
    "a = [1,2,3,4,5,6,7,8,9,15]\n",
    "b = [3,8,9,11,15]"
   ]
  },
  {
   "cell_type": "code",
   "execution_count": 1,
   "metadata": {},
   "outputs": [
    {
     "name": "stdout",
     "output_type": "stream",
     "text": [
      "{8, 9, 3, 15}\n"
     ]
    }
   ],
   "source": [
    "a = [1,2,3,4,5,6,7,8,9,15]\n",
    "b = [3,8,9,11,15]\n",
    "\n",
    "print (set(a).intersection(b))"
   ]
  },
  {
   "cell_type": "markdown",
   "metadata": {},
   "source": [
    "7. Filter out unique positive numbers from the list\n",
    "    x = [1,5,1,2,8,-9,10,1,-8,-900,14,5,-8,2,1,-20,900, 800,-6,-8,12,1]"
   ]
  },
  {
   "cell_type": "code",
   "execution_count": null,
   "metadata": {},
   "outputs": [],
   "source": [
    "x = [1,5,1,2,8,-9,10,1,-8,-900,14,5,-8,2,1,-20,900,800,-6,-8,12,1]\n",
    "\n",
    "positive_numbers = []\n",
    "count = 0\n",
    "for value in \n",
    "#finish with the list"
   ]
  },
  {
   "cell_type": "markdown",
   "metadata": {},
   "source": [
    "# Function\n",
    "    We use the term def to declare a function, using parentheses, ending with a colon.\n",
    "    Function code is not executed until it is called (putting the brackets)."
   ]
  },
  {
   "cell_type": "code",
   "execution_count": 2,
   "metadata": {},
   "outputs": [],
   "source": [
    "def hello():\n",
    "    print('Hello world!!!')\n",
    "    print('end of function')"
   ]
  },
  {
   "cell_type": "code",
   "execution_count": 3,
   "metadata": {},
   "outputs": [
    {
     "name": "stdout",
     "output_type": "stream",
     "text": [
      "Hello world!!!\n",
      "end of function\n"
     ]
    }
   ],
   "source": [
    "hello() #we call it by putting the brackets like this"
   ]
  },
  {
   "cell_type": "code",
   "execution_count": 4,
   "metadata": {},
   "outputs": [
    {
     "data": {
      "text/plain": [
       "<function __main__.hello()>"
      ]
     },
     "execution_count": 4,
     "metadata": {},
     "output_type": "execute_result"
    }
   ],
   "source": [
    "hello"
   ]
  },
  {
   "cell_type": "code",
   "execution_count": 5,
   "metadata": {},
   "outputs": [],
   "source": [
    "def hi(name):\n",
    "    print (f'Hello {name}. Nice to meet you')"
   ]
  },
  {
   "cell_type": "code",
   "execution_count": 9,
   "metadata": {},
   "outputs": [
    {
     "name": "stdout",
     "output_type": "stream",
     "text": [
      "Hello Tomas. Nice to meet you\n",
      "Hello Benas. Nice to meet you\n",
      "Hello Egle. Nice to meet you\n",
      "Hello Nikolaj. Nice to meet you\n",
      "Hello 1. Nice to meet you\n",
      "Hello [12, 584]. Nice to meet you\n"
     ]
    }
   ],
   "source": [
    "hi('Tomas')\n",
    "hi('Benas')\n",
    "hi('Egle')\n",
    "hi('Nikolaj')\n",
    "hi('1') #Python doesn't care about the type of data here, it still will work:\n",
    "hi([12,584]) #^ example of this\n"
   ]
  },
  {
   "cell_type": "code",
   "execution_count": 10,
   "metadata": {},
   "outputs": [
    {
     "ename": "TypeError",
     "evalue": "hi() missing 1 required positional argument: 'name'",
     "output_type": "error",
     "traceback": [
      "\u001b[1;31m---------------------------------------------------------------------------\u001b[0m",
      "\u001b[1;31mTypeError\u001b[0m                                 Traceback (most recent call last)",
      "Cell \u001b[1;32mIn [10], line 1\u001b[0m\n\u001b[1;32m----> 1\u001b[0m hi()\n",
      "\u001b[1;31mTypeError\u001b[0m: hi() missing 1 required positional argument: 'name'"
     ]
    }
   ],
   "source": [
    "#hi()\n",
    "# Wouldn't work - TypeError: hi() missing 1 required positional argument: 'name'\n"
   ]
  },
  {
   "cell_type": "code",
   "execution_count": 21,
   "metadata": {},
   "outputs": [],
   "source": [
    "def substract(num_1, num_2):\n",
    "    result = num_1 - num_2\n",
    "    print('inside function:', result)\n",
    "    return (result)\n",
    "    print ('THIS WILL NEVER BE EXECUTED')"
   ]
  },
  {
   "cell_type": "code",
   "execution_count": 22,
   "metadata": {},
   "outputs": [
    {
     "name": "stdout",
     "output_type": "stream",
     "text": [
      "inside function: 2\n",
      "outside function 2\n",
      "4\n"
     ]
    }
   ],
   "source": [
    "x = substract(5,3)\n",
    "print ('outside function', x)\n",
    "x *= 2\n",
    "print (x)\n"
   ]
  },
  {
   "cell_type": "code",
   "execution_count": 27,
   "metadata": {},
   "outputs": [],
   "source": [
    "def print_substraction(num_1, num_2):\n",
    "    result = substract(num_1, num_2)\n",
    "    print ('some message with subtraction:', result)"
   ]
  },
  {
   "cell_type": "code",
   "execution_count": 28,
   "metadata": {},
   "outputs": [
    {
     "name": "stdout",
     "output_type": "stream",
     "text": [
      "inside function: 2\n",
      "2\n",
      "inside function: -2\n",
      "-2\n",
      "inside function: -2\n",
      "-2\n",
      "inside function: -2\n",
      "some message with subtraction: -2\n"
     ]
    }
   ],
   "source": [
    "print (substract(5,3))\n",
    "print (substract(3,5)) # Ctrl + LClick goes to function\n",
    "print (substract(num_2=5, num_1=3))\n",
    "print_substraction(3,5)\n"
   ]
  },
  {
   "cell_type": "code",
   "execution_count": 31,
   "metadata": {},
   "outputs": [],
   "source": [
    "def subtract(num_1, num_2=5):\n",
    "#def subtract(num_1=1, num_2): would result in an error\n",
    "    result = num_1 - num_2\n",
    "    return result\n"
   ]
  },
  {
   "cell_type": "code",
   "execution_count": 32,
   "metadata": {},
   "outputs": [
    {
     "name": "stdout",
     "output_type": "stream",
     "text": [
      "8\n",
      "11\n"
     ]
    }
   ],
   "source": [
    "print (subtract(13) )\n",
    "print (subtract(13,2) )\n"
   ]
  },
  {
   "cell_type": "code",
   "execution_count": 41,
   "metadata": {},
   "outputs": [
    {
     "name": "stdout",
     "output_type": "stream",
     "text": [
      "global var in function 1\n",
      "22\n",
      "global var outside function 5\n"
     ]
    }
   ],
   "source": [
    "#global scope\n",
    "GLOBAL_VARIABLE = 5 #Capital letters suggest that this is a constant value\n",
    "\n",
    "#DON'T MAKE THESE FUNCTIONS!\n",
    "def subtract(num_1):\n",
    "    #local scope\n",
    "    local_variable = 2\n",
    "    # BAD PRACTICE TO USE GLOBAL VARIABLES\n",
    "    global GLOBAL_VARIABLE # THIS IS BAD\n",
    "    GLOBAL_VARIABLE = 1 #we assign a variable in function, this is bad\n",
    "    print ('global var in function', GLOBAL_VARIABLE)\n",
    "    result = (num_1 - GLOBAL_VARIABLE) * local_variable\n",
    "    return result\n",
    "\n",
    "#print (local_variable) # not defined in global scope\n",
    "print (subtract(12))\n",
    "print ('global var outside function', GLOBAL_VARIABLE)"
   ]
  },
  {
   "cell_type": "code",
   "execution_count": 46,
   "metadata": {},
   "outputs": [
    {
     "name": "stdout",
     "output_type": "stream",
     "text": [
      "result: 46 and 2nd val is: 2\n"
     ]
    }
   ],
   "source": [
    "def subtract(num_1, num_2=5):\n",
    "    #local scope\n",
    "    local_variable = 2\n",
    "    if num_1 > 20:\n",
    "        num_2 = 2\n",
    "   # print ('global var in function', GLOBAL_VARIABLE)\n",
    "    result = (num_1 - num_2) * local_variable\n",
    "\n",
    "    return result, num_2\n",
    "\n",
    "# result, value_2 = subtract(25)\n",
    "# print(f'result: {result} and 2nd val is: {value_2}')\n",
    "\n",
    "# global_var = value_2\n",
    "# print ('global val', global_var)\n",
    "\n",
    "result, value_2 = subtract(25, global_var)\n",
    "print(f'result: {result} and 2nd val is: {value_2}')\n"
   ]
  },
  {
   "cell_type": "code",
   "execution_count": null,
   "metadata": {},
   "outputs": [],
   "source": [
    "def add_numbers(num_1, num_2):\n",
    "    return num_1 + num_2"
   ]
  },
  {
   "cell_type": "code",
   "execution_count": 47,
   "metadata": {},
   "outputs": [
    {
     "ename": "NameError",
     "evalue": "name 'add_numbers' is not defined",
     "output_type": "error",
     "traceback": [
      "\u001b[1;31m---------------------------------------------------------------------------\u001b[0m",
      "\u001b[1;31mNameError\u001b[0m                                 Traceback (most recent call last)",
      "Cell \u001b[1;32mIn [47], line 1\u001b[0m\n\u001b[1;32m----> 1\u001b[0m \u001b[39mprint\u001b[39m (add_numbers(\u001b[39m2\u001b[39m,\u001b[39m4\u001b[39m))\n\u001b[0;32m      2\u001b[0m add_numbers(\u001b[39m2\u001b[39m,\u001b[39m4\u001b[39m,\u001b[39m6\u001b[39m,\u001b[39m7\u001b[39m,\u001b[39m68\u001b[39m)\n",
      "\u001b[1;31mNameError\u001b[0m: name 'add_numbers' is not defined"
     ]
    }
   ],
   "source": [
    "print (add_numbers(2,4))\n",
    "add_numbers(2,4,6,7,68) #ends up in an error"
   ]
  },
  {
   "cell_type": "code",
   "execution_count": 54,
   "metadata": {},
   "outputs": [],
   "source": [
    "def add_numbers( *args ): # args = arguments\n",
    "    #print (args)\n",
    "    my_sum = 0\n",
    "    for num in args:\n",
    "        my_sum += num\n",
    "    return my_sum\n",
    "    # return num_1 + num_2"
   ]
  },
  {
   "cell_type": "code",
   "execution_count": 56,
   "metadata": {},
   "outputs": [
    {
     "name": "stdout",
     "output_type": "stream",
     "text": [
      "6\n",
      "87\n",
      "2025\n"
     ]
    }
   ],
   "source": [
    "print (add_numbers(2,4))\n",
    "print (add_numbers(2,4,6,7,68))\n",
    "print (add_numbers(2,4,6,7,68,496,4,89,684,654,5,6))\n"
   ]
  },
  {
   "cell_type": "code",
   "execution_count": 60,
   "metadata": {},
   "outputs": [],
   "source": [
    "def kwargs_f ( **kwargs ): # kwargs - keyword arguments\n",
    "    #print (kwargs)\n",
    "    for k, v in kwargs.items(): #k - key, v - value\n",
    "        print (f'key {k} has a value of {v}')"
   ]
  },
  {
   "cell_type": "code",
   "execution_count": 63,
   "metadata": {},
   "outputs": [
    {
     "name": "stdout",
     "output_type": "stream",
     "text": [
      "key name has a value of Nikolaj\n",
      "key number has a value of 10\n",
      "key shape has a value of circle\n",
      "None\n"
     ]
    }
   ],
   "source": [
    "#print(kwargs_f()) # <doesn't show anything\n",
    "print(kwargs_f(name='Nikolaj', number=10, shape='circle'))"
   ]
  },
  {
   "cell_type": "code",
   "execution_count": 69,
   "metadata": {},
   "outputs": [],
   "source": [
    "# order of type of arguments\n",
    "def some_function(pos_1, pos_2, optional_1=1, optional_2=2, **kwargs  ):\n",
    "    print ('pos_1', pos_1)\n",
    "    print ('pos_2', pos_2)\n",
    "    print ('optional_1', optional_1)\n",
    "    print ('optional_2', optional_2)\n",
    "    #print ('args', args)\n",
    "    print ('kwargs', kwargs)\n"
   ]
  },
  {
   "cell_type": "code",
   "execution_count": null,
   "metadata": {},
   "outputs": [],
   "source": []
  }
 ],
 "metadata": {
  "kernelspec": {
   "display_name": "Python 3.10.8 64-bit",
   "language": "python",
   "name": "python3"
  },
  "language_info": {
   "codemirror_mode": {
    "name": "ipython",
    "version": 3
   },
   "file_extension": ".py",
   "mimetype": "text/x-python",
   "name": "python",
   "nbconvert_exporter": "python",
   "pygments_lexer": "ipython3",
   "version": "3.10.8"
  },
  "orig_nbformat": 4,
  "vscode": {
   "interpreter": {
    "hash": "101944ae7d96b15bf68203bae408f7824b2013f5e64db3410f77405552a8b789"
   }
  }
 },
 "nbformat": 4,
 "nbformat_minor": 2
}
