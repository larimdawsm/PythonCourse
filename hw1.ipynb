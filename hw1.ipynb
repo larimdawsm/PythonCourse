{
 "cells": [
  {
   "cell_type": "markdown",
   "metadata": {},
   "source": [
    "1. Declare two int type variables. Calculate the sum of two int, the difference, the product, the remainder, divide one number by another."
   ]
  },
  {
   "cell_type": "code",
   "execution_count": 98,
   "metadata": {},
   "outputs": [
    {
     "name": "stdout",
     "output_type": "stream",
     "text": [
      "47\n",
      "169\n",
      "//\n",
      "Sum and Difference\n",
      "216\n",
      "-122\n",
      "122\n",
      "//\n",
      "Product, Remainder and Division\n",
      "7943\n",
      "47\n",
      "0.2781065088757396\n",
      "3.595744680851064\n"
     ]
    }
   ],
   "source": [
    "intvar1 = 47\n",
    "intvar2 = 169\n",
    "\n",
    "print(intvar1)\n",
    "print(intvar2)\n",
    "print('//')\n",
    "print('Sum and Difference')\n",
    "print(intvar1 + intvar2) #sum of both; Is it possible to make it say \"The sum of both would be\" and then function?\n",
    "print(intvar1 - intvar2) #difference\n",
    "print(intvar2 - intvar1) #diff2 \n",
    "print('//')\n",
    "print('Product, Remainder and Division')\n",
    "print(intvar1 * intvar2)\n",
    "print(intvar1 % intvar2)\n",
    "print(intvar1 / intvar2)\n",
    "print(intvar2 / intvar1)\n"
   ]
  },
  {
   "cell_type": "markdown",
   "metadata": {},
   "source": [
    "2. Declare two float type variables. Calculate the sum, difference, product, remainder of two floats, divide by one number from another."
   ]
  },
  {
   "cell_type": "code",
   "execution_count": 99,
   "metadata": {},
   "outputs": [
    {
     "name": "stdout",
     "output_type": "stream",
     "text": [
      "69.42\n",
      "42.69\n",
      "//\n",
      "Sum and Difference\n",
      "112.11\n",
      "26.730000000000004\n",
      "-26.730000000000004\n",
      "//\n",
      "Product, Remainder and Division\n",
      "2963.5398\n",
      "26.730000000000004\n",
      "1.6261419536191146\n",
      "0.61495246326707\n",
      "//\n",
      "1.0\n",
      "0.0\n"
     ]
    }
   ],
   "source": [
    "fltvar1 = 69.42\n",
    "fltvar2 = 42.69\n",
    "print(fltvar1)\n",
    "print(fltvar2)\n",
    "print('//')\n",
    "\n",
    "print('Sum and Difference')\n",
    "print(fltvar1 + fltvar2)\n",
    "print(fltvar1 - fltvar2) #difference\n",
    "print(fltvar2 - fltvar1) #diff2\n",
    "print('//')\n",
    "\n",
    "print('Product, Remainder and Division')\n",
    "print(fltvar1 * fltvar2)\n",
    "print(fltvar1 % fltvar2)\n",
    "print(fltvar1 / fltvar2)\n",
    "print(fltvar2 / fltvar1)\n",
    "print('//')\n",
    "\n",
    "print(fltvar1 // fltvar2)\n",
    "print(fltvar2 // fltvar1)\n"
   ]
  },
  {
   "cell_type": "markdown",
   "metadata": {},
   "source": [
    "3. Calculating"
   ]
  },
  {
   "cell_type": "code",
   "execution_count": 100,
   "metadata": {},
   "outputs": [
    {
     "name": "stdout",
     "output_type": "stream",
     "text": [
      "Answer\n",
      "390\n"
     ]
    }
   ],
   "source": [
    "##The distance to the Moon is about 384,000 km, and to the Sun 150,000,000, how many times the distance to the Sun is greater than to the Moon?\n",
    "\n",
    "moon = 384000\n",
    "sun = 150000000\n",
    "\n",
    "print(\"Answer\")\n",
    "print(sun // moon)\n",
    "Answer = sun//moon #Wanted to ask how we can perform similar functions/operations."
   ]
  },
  {
   "cell_type": "code",
   "execution_count": 101,
   "metadata": {},
   "outputs": [
    {
     "name": "stdout",
     "output_type": "stream",
     "text": [
      "2560.0\n",
      "//\n",
      "8760\n",
      "0.2922374429223744\n",
      "//\n",
      "720\n",
      "3.5555555555555554\n",
      "//\n",
      "106.66666666666667\n",
      "//\n",
      "9216000\n",
      "Answer = To drive to the moon with a speed of 150km per hour it would take approximately 2560 hours, or 0.29 years, or 3.56 months, or 106.67 days, or 9216000 seconds.\n"
     ]
    }
   ],
   "source": [
    "##If we want to drive to the moon in a car with a speed of 150km / h, how many hours, years, months, days, seconds would it take?\n",
    "vkm = 150\n",
    "print(moon / vkm)\n",
    "hours = 2560\n",
    "print('//')\n",
    "\n",
    "print(365 * 24)\n",
    "print(hours / 8760)\n",
    "years = 0.29\n",
    "print('//')\n",
    "\n",
    "print(30 * 24)\n",
    "print(hours / 720)\n",
    "months = 3.56\n",
    "print('//')\n",
    "\n",
    "print(hours / 24)\n",
    "days = 106.67\n",
    "print('//')\n",
    "\n",
    "print(hours * 3600)\n",
    "seconds = 9216000\n",
    "\n",
    "print(f\"Answer = To drive to the moon with a speed of 150km per hour it would take approximately {hours} hours, or {years} years, or {months} months, or {days} days, or {seconds} seconds.\")\n",
    "\n",
    "\n"
   ]
  },
  {
   "cell_type": "code",
   "execution_count": 102,
   "metadata": {},
   "outputs": [
    {
     "name": "stdout",
     "output_type": "stream",
     "text": [
      "Since my last birthday passed 28 days, 5:43:56.233227\n"
     ]
    }
   ],
   "source": [
    "## Calculating how many days have passed since my birthday\n",
    "from datetime import datetime\n",
    "\n",
    "datenow = datetime.now()\n",
    "datebday = datetime(day=28, month=9, year=2022)\n",
    "\n",
    "timedelta = datenow - datebday\n",
    "print(f\"Since my last birthday passed {timedelta}\")"
   ]
  }
 ],
 "metadata": {
  "kernelspec": {
   "display_name": "Python 3.10.8 64-bit",
   "language": "python",
   "name": "python3"
  },
  "language_info": {
   "codemirror_mode": {
    "name": "ipython",
    "version": 3
   },
   "file_extension": ".py",
   "mimetype": "text/x-python",
   "name": "python",
   "nbconvert_exporter": "python",
   "pygments_lexer": "ipython3",
   "version": "3.10.8"
  },
  "orig_nbformat": 4,
  "vscode": {
   "interpreter": {
    "hash": "101944ae7d96b15bf68203bae408f7824b2013f5e64db3410f77405552a8b789"
   }
  }
 },
 "nbformat": 4,
 "nbformat_minor": 2
}
